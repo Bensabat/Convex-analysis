{
 "cells": [
  {
   "cell_type": "markdown",
   "metadata": {},
   "source": [
    "# OPTIMISATION CONVEXE\n",
    "___"
   ]
  },
  {
   "cell_type": "code",
   "execution_count": 1,
   "metadata": {},
   "outputs": [],
   "source": [
    "import warnings\n",
    "import numpy as np\n",
    "import matplotlib.pyplot as plt"
   ]
  },
  {
   "cell_type": "markdown",
   "metadata": {},
   "source": [
    "## 1. Descentes de gradient sans contraintes\n",
    "\n",
    "Familles de fonctions avec nombres de conditionnement quelconques."
   ]
  },
  {
   "cell_type": "code",
   "execution_count": 2,
   "metadata": {},
   "outputs": [],
   "source": [
    "ffamilies = [\n",
    "    lambda k: lambda x: x[0, 0]**2 + k * x[0, 0] * x[0, 1] + x[0,1]**2, # x² + kxy + y²\n",
    "    lambda k: lambda x: (k+1) * x[0, 0]**2 + x[0,1]**3,                 # kx² + y³\n",
    "    lambda k: lambda x: k * x[0, 0] + x[0, 1] **2,                      # kx + y²\n",
    "    lambda k: lambda x: x[0, 0]**2 + k * x[0, 0],                       # x² + kx\n",
    "    lambda k: lambda x: x[0, 0]**3 + x[0, 0] + k                        # x² + x + k\n",
    "]"
   ]
  },
  {
   "cell_type": "markdown",
   "metadata": {},
   "source": [
    "### 1.1 Le Classique"
   ]
  },
  {
   "cell_type": "code",
   "execution_count": 3,
   "metadata": {},
   "outputs": [],
   "source": [
    "def partial(f, x, i=[0], dx=1e-6):\n",
    "    \"\"\"Computes the i-th partial derivative of f at point x.\n",
    "    \n",
    "    Args:\n",
    "        f: objective function.\n",
    "        x: point at which partial derivative is computed.\n",
    "        i: list of coordinates along which derivative is computed (differentiates successively once per coordinate).\n",
    "        dx: slack for finite difference.\n",
    "        \n",
    "    Output:\n",
    "        (float)\n",
    "    \"\"\"\n",
    "    if not i:\n",
    "        return f(x)\n",
    "    x = x.reshape(1, -1)\n",
    "    h = np.zeros(x.shape)\n",
    "    h[0, i[0]] = dx\n",
    "    p1 = partial(f, x + h, i[1:], dx)\n",
    "    p2 = partial(f, x - h, i[1:], dx)\n",
    "    return (p1 - p2) / (2*dx)\n",
    "\n",
    "def deriv1(f, x, i, dx=1e-6):\n",
    "    return partial(f, x, [i], dx)\n",
    "\n",
    "def deriv2(f, x, i, j, dx=1e-6):\n",
    "    return partial(f, x, [i, j], dx)"
   ]
  },
  {
   "cell_type": "code",
   "execution_count": 4,
   "metadata": {},
   "outputs": [],
   "source": [
    "def gradient(f, x, dx=1e-6):\n",
    "    \"\"\"Computes gradient of f at point x.\n",
    "    \n",
    "    Args:\n",
    "        f: objective function.\n",
    "        x: point at which gradient is computed.\n",
    "        dx: slack for finite difference of partial derivatives.\n",
    "        \n",
    "    Output:\n",
    "        (ndarray) of size domain of f.\n",
    "    \"\"\"\n",
    "    x = x.reshape(1, -1)\n",
    "    dim = x.shape[1]\n",
    "    return np.array([deriv1(f, x, i, dx) for i in range(dim)]).reshape(1, -1)"
   ]
  },
  {
   "cell_type": "code",
   "execution_count": 5,
   "metadata": {},
   "outputs": [],
   "source": [
    "def hessian(f ,x, dx=1e-6):\n",
    "    \"\"\"Computes hessian of f at point x.\n",
    "    \n",
    "    Args:\n",
    "        f: objective function.\n",
    "        x: point at which hessian is computed.\n",
    "        dx: slack for finite difference of partial derivatives.\n",
    "        \n",
    "    Output:\n",
    "        (ndarray) of square shape and size domain of f.\n",
    "    \"\"\"\n",
    "    x = x.reshape(1, -1)\n",
    "    dim = x.shape[1]\n",
    "    line = lambda i: np.array([deriv2(f, x, i, j, dx) for j in range(dim)])\n",
    "    return np.array([line(i) for i in range(dim)])\n",
    "\n",
    "# Nombre de conditionnement : rapport entre la plus grande et la\n",
    "# plus petite des courbures parmi les directions partant de x.\n",
    "def condition_number(f, x):\n",
    "    H = hessian(f, x)\n",
    "    eivals, _ = np.linalg.eig(H)\n",
    "    return abs(max(eivals) / min(eivals))"
   ]
  },
  {
   "cell_type": "code",
   "execution_count": 6,
   "metadata": {},
   "outputs": [
    {
     "name": "stdout",
     "output_type": "stream",
     "text": [
      "inf\n",
      "inf\n",
      "21.0\n",
      "inf\n",
      "11.356388279456786\n",
      "11.356388279456786\n",
      "101.99019513592752\n",
      "101.99019513592752\n",
      "101.99019513592752\n",
      "inf\n",
      "101.99019513592752\n",
      "inf\n",
      "inf\n",
      "101.99019513592752\n",
      "101.99019513592752\n"
     ]
    },
    {
     "name": "stderr",
     "output_type": "stream",
     "text": [
      "/home/dadou/anaconda3/lib/python3.6/site-packages/ipykernel_launcher.py:22: RuntimeWarning: divide by zero encountered in double_scalars\n"
     ]
    }
   ],
   "source": [
    "i, k, x = 1, 2, np.r_[100, 100]\n",
    "hessian(ffamilies[i](k), x), condition_number(ffamilies[i](k), x)\n",
    "for i in range(15):\n",
    "    print(condition_number(ffamilies[1](i), x))"
   ]
  },
  {
   "cell_type": "code",
   "execution_count": 7,
   "metadata": {},
   "outputs": [],
   "source": [
    "class ClassicUpdater:\n",
    "    def __init__(self, rate=0.01, tol=1e-6):\n",
    "        self.rate = rate if callable(rate) else lambda reset: rate\n",
    "        self.tol = tol\n",
    "\n",
    "    def __call__(self, f, x, reset):\n",
    "        return self.rate(reset) * -gradient(f, x, self.tol)\n",
    "\n",
    "ln_decay = lambda n: lambda tol: lambda f, x: np.linalg.norm(gradient(f, x, tol), ord=n)\n",
    "l1_decay = ln_decay(1)\n",
    "l2_decay = ln_decay(2)\n",
    "\n",
    "class GD():\n",
    "    \"\"\"Gradient Descent Object.\n",
    "    \n",
    "    Implements gradient descent aiming to compute optimal objective \n",
    "    value of convex functions and local optimal ones of none \n",
    "    convex functions.\n",
    "    \"\"\"    \n",
    "    def __init__(self, delta=None, decay=None, tol=1e-6, max_iter=1000):\n",
    "        \"\"\"\n",
    "        Instantiates a GD object.\n",
    "    \n",
    "        Attributes:\n",
    "        delta: function computing descent update vector (direction + step)\n",
    "        decay: function computing decay\n",
    "        tol: slack tolerance.\n",
    "        max_iter: upper bound on number of iterations.\n",
    "        \"\"\"\n",
    "        self.delta = delta if delta is not None else ClassicUpdater(0.01, tol)\n",
    "        self.decay = decay if decay is not None else l2_decay(tol)\n",
    "        self.tol = tol\n",
    "        self.max_iter = max_iter\n",
    "        self.grad = gradient\n",
    "    \n",
    "    def __call__(self, x, f):\n",
    "        \"\"\"Calling gradient descent object with specific starting point and optimal function.\n",
    "        \n",
    "        Args:\n",
    "            x: initial starting point for descent.\n",
    "            f: objective function of optimisation problem.\n",
    "        \n",
    "        Output:\n",
    "            (float) sub-optimal value up to tolerance if execution is proper.\n",
    "            (ndarray) list of gradient descent iterates.\n",
    "        \"\"\"\n",
    "        # Helper functions\n",
    "        compute_delta = lambda x, reset=False: self.delta(f, x, reset)\n",
    "        compute_decay = lambda x: self.decay(f, x)\n",
    "        \n",
    "        # Start\n",
    "        x = x.reshape(1, -1)\n",
    "        n_iter = 0\n",
    "        iters, iters_dir = x, compute_delta(x, reset=True)\n",
    "        decay = compute_decay(x)\n",
    "        while decay > self.tol and n_iter < self.max_iter:\n",
    "            ## Decide on direction\n",
    "            delta = compute_delta(x)\n",
    "            ## Update iterate\n",
    "            x = x + delta\n",
    "            ## Store on-going data\n",
    "            iters = np.vstack([iters, x])\n",
    "            iters_dir = np.vstack([iters_dir, delta])\n",
    "            ## Update decay\n",
    "            decay = compute_decay(x)\n",
    "            ## Update iteration number\n",
    "            n_iter += 1\n",
    "\n",
    "        # Display results\n",
    "        msg = \" Iteration nu. = {}\\n approx. = {}\\n ob value = {}\\n and decay = {}.\"\n",
    "        #print(msg.format(n_iter, x.flatten(), f(x), decay))\n",
    "        if decay > self.tol:\n",
    "            warnings.warn(\"Decay didn't get under tolerance rate.\", RuntimeWarning)\n",
    "        return (x, iters, iters_dir, n_iter) "
   ]
  },
  {
   "cell_type": "code",
   "execution_count": 8,
   "metadata": {},
   "outputs": [
    {
     "data": {
      "image/png": "[encoded data removed]",
      "text/plain": [
       "<matplotlib.figure.Figure at 0x7f53e84d5ef0>"
      ]
     },
     "metadata": {},
     "output_type": "display_data"
    }
   ],
   "source": [
    "def plot_gradient_descent(f, x, k_max, str_name, rate=0.01, max_cond=100, max_iter_per_gd=2000):\n",
    "    \"\"\"Plot the number iterations of a constant gradient descent of f at point x with several k,\n",
    "       contrasted with the conditionnement number\n",
    "    \n",
    "    Args:\n",
    "        f: objective function.\n",
    "        x: point at which gradient is computed.\n",
    "        k_max: number of k (0 to k_max)\n",
    "        str_name: string name of the function\n",
    "    \"\"\"\n",
    "    DG_classic = GD(ClassicUpdater(rate=rate), max_iter=max_iter_per_gd)\n",
    "\n",
    "    list_iter = [DG_classic(x, f(k))[3] for k in range(k_max)]\n",
    "    list_cond = [condition_number(f(k), x) for k in range(k_max)]\n",
    "\n",
    "    array_cond = np.array(list_cond)\n",
    "    array_iter = np.array(list_iter)\n",
    "\n",
    "    array_tuple = list(filter(lambda tup: tup[0] < max_cond, zip(array_cond, array_iter)))\n",
    "    array_tuple.sort(key=lambda tup: tup[0])\n",
    "\n",
    "    array_cond_iter = list(zip(*array_tuple))\n",
    "\n",
    "    plt.plot(array_cond_iter[0], array_cond_iter[1], \"--go\", label=\"steps\")\n",
    "    plt.legend(loc='upper right')\n",
    "    plt.xlabel(\"Conditionnement number\")\n",
    "    plt.ylabel(\"Number of iteration\")\n",
    "    plt.title(\"GD constant rate: \" + str_name)\n",
    "\n",
    "    plt.show()\n",
    "    \n",
    "plot_gradient_descent(ffamilies[0], np.r_[5, 5], 100, \"x² + kxy + y²\")"
   ]
  },
  {
   "cell_type": "code",
   "execution_count": 9,
   "metadata": {},
   "outputs": [
    {
     "data": {
      "image/png": "[encoded data removed]",
      "text/plain": [
       "<matplotlib.figure.Figure at 0x7f53ccaf8cc0>"
      ]
     },
     "metadata": {},
     "output_type": "display_data"
    }
   ],
   "source": [
    "def plot_GD_unconstant(f, x, k, str_name, max_rate, max_cond=100, max_iter_per_gd=2000):\n",
    "    list_iter = []\n",
    "    list_cond = []\n",
    "    for rate in np.arange(0.1, max_rate, 0.1):\n",
    "        DG_classic = GD(ClassicUpdater(rate), max_iter=max_iter_per_gd)\n",
    "        list_iter.append(DG_classic(x, f(k))[3])\n",
    "        list_cond.append(condition_number(f(k), x))\n",
    "\n",
    "    array_cond = np.array(list_cond)\n",
    "    array_iter = np.array(list_iter)\n",
    "\n",
    "    array_tuple = list(filter(lambda tup: tup[0] < max_cond, zip(array_cond, array_iter)))\n",
    "    array_tuple.sort(key=lambda tup: tup[0])\n",
    "\n",
    "    array_cond_iter = list(zip(*array_tuple))\n",
    "\n",
    "    plt.plot(array_cond_iter[0], array_cond_iter[1], \"--go\", label=\"steps\")\n",
    "    plt.legend(loc='upper right')\n",
    "    plt.xlabel(\"Conditionnement number\")\n",
    "    plt.ylabel(\"Number of iteration\")\n",
    "    plt.title(\"GD non-constant rate: \" + str_name)\n",
    "\n",
    "    plt.show()\n",
    "\n",
    "plot_GD_unconstant(ffamilies[0], np.r_[5, 5], 10, \"x² + kxy + y²\", 50)"
   ]
  },
  {
   "cell_type": "code",
   "execution_count": 10,
   "metadata": {},
   "outputs": [
    {
     "name": "stdout",
     "output_type": "stream",
     "text": [
      "\n"
     ]
    }
   ],
   "source": [
    "DG_classic = GD()\n",
    "DG_classic(np.r_[1, 1], ffamilies[0](0))\n",
    "print()"
   ]
  },
  {
   "cell_type": "markdown",
   "metadata": {},
   "source": [
    "### 1.2 Accélération de convergence"
   ]
  },
  {
   "cell_type": "markdown",
   "metadata": {},
   "source": [
    "#### Learning Rate Scheduling\n",
    "\n",
    "Le Learning Rate Scheduling (LRS) visent à ajuster le taux d'apprentissage pendant la formation en réduisant le taux d'apprentissage selon un schedule prédéfini. Les Learning Rate Scheduling comprennent la décroissance temporelle, la décroissance par paliers et la décroissance exponentielle."
   ]
  },
  {
   "cell_type": "code",
   "execution_count": 11,
   "metadata": {},
   "outputs": [],
   "source": [
    "class ExponentialLRScheduler:\n",
    "    def __init__(self, initial_rate=0.1, r=0.1):\n",
    "        self.initial_rate = initial_rate\n",
    "        self.r = r\n",
    "\n",
    "    def __call__(self, reset):\n",
    "        if reset:\n",
    "            self.n_iter = 0\n",
    "        return self.initial_rate * 10**(- self.n_iter / self.r)"
   ]
  },
  {
   "cell_type": "code",
   "execution_count": 12,
   "metadata": {},
   "outputs": [
    {
     "name": "stdout",
     "output_type": "stream",
     "text": [
      "\n"
     ]
    }
   ],
   "source": [
    "DG_classic = GD(ClassicUpdater(ExponentialLRScheduler()))\n",
    "DG_classic(np.r_[15, 20], ffamilies[0](0))\n",
    "print()"
   ]
  },
  {
   "cell_type": "markdown",
   "metadata": {},
   "source": [
    "#### Nesterov Accelerated Gradient\n",
    "\n",
    "La Nesterov Accelerated Gradient (NAG) consiste en une étape de descente en gradient, suivie par quelque chose de très similaire au momentum, mais pas exactement la même que celle trouvée dans le momentum classique."
   ]
  },
  {
   "cell_type": "code",
   "execution_count": 13,
   "metadata": {},
   "outputs": [],
   "source": [
    "class NesterovUpdater:\n",
    "    def __init__(self, rate=0.01, momentum=0.9, tol=1e-6):\n",
    "        self.rate = rate\n",
    "        self.momentum = momentum\n",
    "        self.tol = tol\n",
    "    \n",
    "    def __call__(self, f, x, reset):\n",
    "        x = x.reshape(1, -1)\n",
    "        if reset is True:\n",
    "            self.m_vect = np.zeros(x.shape[1])\n",
    "        mv = self.momentum * self.m_vect\n",
    "        self.m_vect = mv - self.rate * gradient(f, x + mv, self.tol)\n",
    "        return self.m_vect"
   ]
  },
  {
   "cell_type": "code",
   "execution_count": 14,
   "metadata": {},
   "outputs": [
    {
     "name": "stdout",
     "output_type": "stream",
     "text": [
      "\n"
     ]
    }
   ],
   "source": [
    "DG_nesterov = GD(NesterovUpdater())\n",
    "DG_nesterov(np.r_[15, 20], ffamilies[0](0))\n",
    "print()"
   ]
  },
  {
   "cell_type": "markdown",
   "metadata": {},
   "source": [
    "#### Adam Optimization\n",
    "\n",
    "Adam Optimization est différent de la descente de gradient classique.\n",
    "La descente de gradient maintient un taux d'apprentissage unique pour toutes les mises à jour de poids et le taux d'apprentissage ne change pas pendant l'entraînement.\n",
    "Un taux d'apprentissage est maintenu pour chaque poids de réseau (paramètre) et adapté séparément à mesure que l'apprentissage se déroule."
   ]
  },
  {
   "cell_type": "code",
   "execution_count": 15,
   "metadata": {},
   "outputs": [],
   "source": [
    "class AdamUpdater:\n",
    "    def __init__(self, rate=0.01, beta1=0.9, beta2=0.9, tol=1e-6, epsilon=1e-7):\n",
    "        self.rate = rate\n",
    "        self.beta1 = beta1\n",
    "        self.beta2 = beta2\n",
    "        self.tol = tol\n",
    "        self.epsilon = epsilon\n",
    "\n",
    "    def __call__(self, f, x, reset):\n",
    "        x = x.reshape(1, -1)\n",
    "        if reset is True:\n",
    "            self.n_iter = 1\n",
    "            self.m_vect = np.zeros(x.shape[1])\n",
    "            self.s_vect = np.zeros(x.shape[1])\n",
    "        gf = gradient(f, x, self.tol)\n",
    "        m = self.beta1 * self.m_vect - (1 - self.beta1) * gf\n",
    "        s = self.beta2 * self.s_vect + (1 - self.beta2) * gf * gf\n",
    "        self.m_vect = m / (1 - self.beta1**self.n_iter)\n",
    "        self.s_vect = s / (1 - self.beta2**self.n_iter)\n",
    "        return self.rate * self.m_vect / np.sqrt(self.s_vect + self.epsilon)"
   ]
  },
  {
   "cell_type": "code",
   "execution_count": 16,
   "metadata": {},
   "outputs": [
    {
     "name": "stdout",
     "output_type": "stream",
     "text": [
      "\n"
     ]
    }
   ],
   "source": [
    "DG_adam = GD(AdamUpdater())\n",
    "DG_adam(np.r_[15, 20], ffamilies[0](0))\n",
    "print()"
   ]
  },
  {
   "cell_type": "markdown",
   "metadata": {},
   "source": [
    "## 2. Thématiques plus avancées"
   ]
  },
  {
   "cell_type": "markdown",
   "metadata": {},
   "source": [
    "### 2.1 Méthode de Newton"
   ]
  },
  {
   "cell_type": "code",
   "execution_count": 17,
   "metadata": {},
   "outputs": [],
   "source": [
    "def newton(f, x, rate=0.1, tol=1e-6):\n",
    "    \"\"\"Computes a local minimum of f at point x using Newton's method.\n",
    "    \n",
    "    Args:\n",
    "        f: objective function.\n",
    "        x: starting point\n",
    "        tol: tolerance used for hessian computation and stop condition\n",
    "        \n",
    "    Output:\n",
    "        (ndarray) of the same shape as x.\n",
    "    \"\"\"\n",
    "    lamda = 2.0 * tol + 1\n",
    "    n_iter = 0\n",
    "    while lamda/2 > tol:\n",
    "        delta = np.linalg.inv(hessian(f, x, tol)) @ gradient(f, x, tol).T\n",
    "        lamda = np.dot(gradient(f, x, tol), delta)\n",
    "        x = x - rate * delta\n",
    "        n_iter += 1\n",
    "    return x, n_iter"
   ]
  },
  {
   "cell_type": "code",
   "execution_count": 18,
   "metadata": {},
   "outputs": [
    {
     "ename": "LinAlgError",
     "evalue": "Singular matrix",
     "output_type": "error",
     "traceback": [
      "\u001b[0;31m---------------------------------------------------------------------------\u001b[0m",
      "\u001b[0;31mLinAlgError\u001b[0m                               Traceback (most recent call last)",
      "\u001b[0;32m<ipython-input-18-870ecca9ecb0>\u001b[0m in \u001b[0;36m<module>\u001b[0;34m()\u001b[0m\n\u001b[0;32m----> 1\u001b[0;31m \u001b[0mnewton\u001b[0m\u001b[0;34m(\u001b[0m\u001b[0;32mlambda\u001b[0m \u001b[0mx\u001b[0m\u001b[0;34m:\u001b[0m \u001b[0mx\u001b[0m\u001b[0;34m[\u001b[0m\u001b[0;36m0\u001b[0m\u001b[0;34m,\u001b[0m\u001b[0;36m0\u001b[0m\u001b[0;34m]\u001b[0m\u001b[0;34m**\u001b[0m\u001b[0;36m2\u001b[0m \u001b[0;34m+\u001b[0m \u001b[0mx\u001b[0m\u001b[0;34m[\u001b[0m\u001b[0;36m0\u001b[0m\u001b[0;34m,\u001b[0m\u001b[0;36m1\u001b[0m\u001b[0;34m]\u001b[0m\u001b[0;34m**\u001b[0m\u001b[0;36m2\u001b[0m\u001b[0;34m,\u001b[0m \u001b[0mnp\u001b[0m\u001b[0;34m.\u001b[0m\u001b[0mr_\u001b[0m\u001b[0;34m[\u001b[0m\u001b[0;36m5\u001b[0m\u001b[0;34m,\u001b[0m \u001b[0;36m5\u001b[0m\u001b[0;34m]\u001b[0m\u001b[0;34m)\u001b[0m\u001b[0;34m\u001b[0m\u001b[0m\n\u001b[0m",
      "\u001b[0;32m<ipython-input-17-1271a94a4e65>\u001b[0m in \u001b[0;36mnewton\u001b[0;34m(f, x, rate, tol)\u001b[0m\n\u001b[1;32m     13\u001b[0m     \u001b[0mn_iter\u001b[0m \u001b[0;34m=\u001b[0m \u001b[0;36m0\u001b[0m\u001b[0;34m\u001b[0m\u001b[0m\n\u001b[1;32m     14\u001b[0m     \u001b[0;32mwhile\u001b[0m \u001b[0mlamda\u001b[0m\u001b[0;34m/\u001b[0m\u001b[0;36m2\u001b[0m \u001b[0;34m>\u001b[0m \u001b[0mtol\u001b[0m\u001b[0;34m:\u001b[0m\u001b[0;34m\u001b[0m\u001b[0m\n\u001b[0;32m---> 15\u001b[0;31m         \u001b[0mdelta\u001b[0m \u001b[0;34m=\u001b[0m \u001b[0mnp\u001b[0m\u001b[0;34m.\u001b[0m\u001b[0mlinalg\u001b[0m\u001b[0;34m.\u001b[0m\u001b[0minv\u001b[0m\u001b[0;34m(\u001b[0m\u001b[0mhessian\u001b[0m\u001b[0;34m(\u001b[0m\u001b[0mf\u001b[0m\u001b[0;34m,\u001b[0m \u001b[0mx\u001b[0m\u001b[0;34m,\u001b[0m \u001b[0mtol\u001b[0m\u001b[0;34m)\u001b[0m\u001b[0;34m)\u001b[0m \u001b[0;34m@\u001b[0m \u001b[0mgradient\u001b[0m\u001b[0;34m(\u001b[0m\u001b[0mf\u001b[0m\u001b[0;34m,\u001b[0m \u001b[0mx\u001b[0m\u001b[0;34m,\u001b[0m \u001b[0mtol\u001b[0m\u001b[0;34m)\u001b[0m\u001b[0;34m.\u001b[0m\u001b[0mT\u001b[0m\u001b[0;34m\u001b[0m\u001b[0m\n\u001b[0m\u001b[1;32m     16\u001b[0m         \u001b[0mlamda\u001b[0m \u001b[0;34m=\u001b[0m \u001b[0mnp\u001b[0m\u001b[0;34m.\u001b[0m\u001b[0mdot\u001b[0m\u001b[0;34m(\u001b[0m\u001b[0mgradient\u001b[0m\u001b[0;34m(\u001b[0m\u001b[0mf\u001b[0m\u001b[0;34m,\u001b[0m \u001b[0mx\u001b[0m\u001b[0;34m,\u001b[0m \u001b[0mtol\u001b[0m\u001b[0;34m)\u001b[0m\u001b[0;34m,\u001b[0m \u001b[0mdelta\u001b[0m\u001b[0;34m)\u001b[0m\u001b[0;34m\u001b[0m\u001b[0m\n\u001b[1;32m     17\u001b[0m         \u001b[0mx\u001b[0m \u001b[0;34m=\u001b[0m \u001b[0mx\u001b[0m \u001b[0;34m-\u001b[0m \u001b[0mrate\u001b[0m \u001b[0;34m*\u001b[0m \u001b[0mdelta\u001b[0m\u001b[0;34m\u001b[0m\u001b[0m\n",
      "\u001b[0;32m~/anaconda3/lib/python3.6/site-packages/numpy/linalg/linalg.py\u001b[0m in \u001b[0;36minv\u001b[0;34m(a)\u001b[0m\n\u001b[1;32m    526\u001b[0m     \u001b[0msignature\u001b[0m \u001b[0;34m=\u001b[0m \u001b[0;34m'D->D'\u001b[0m \u001b[0;32mif\u001b[0m \u001b[0misComplexType\u001b[0m\u001b[0;34m(\u001b[0m\u001b[0mt\u001b[0m\u001b[0;34m)\u001b[0m \u001b[0;32melse\u001b[0m \u001b[0;34m'd->d'\u001b[0m\u001b[0;34m\u001b[0m\u001b[0m\n\u001b[1;32m    527\u001b[0m     \u001b[0mextobj\u001b[0m \u001b[0;34m=\u001b[0m \u001b[0mget_linalg_error_extobj\u001b[0m\u001b[0;34m(\u001b[0m\u001b[0m_raise_linalgerror_singular\u001b[0m\u001b[0;34m)\u001b[0m\u001b[0;34m\u001b[0m\u001b[0m\n\u001b[0;32m--> 528\u001b[0;31m     \u001b[0mainv\u001b[0m \u001b[0;34m=\u001b[0m \u001b[0m_umath_linalg\u001b[0m\u001b[0;34m.\u001b[0m\u001b[0minv\u001b[0m\u001b[0;34m(\u001b[0m\u001b[0ma\u001b[0m\u001b[0;34m,\u001b[0m \u001b[0msignature\u001b[0m\u001b[0;34m=\u001b[0m\u001b[0msignature\u001b[0m\u001b[0;34m,\u001b[0m \u001b[0mextobj\u001b[0m\u001b[0;34m=\u001b[0m\u001b[0mextobj\u001b[0m\u001b[0;34m)\u001b[0m\u001b[0;34m\u001b[0m\u001b[0m\n\u001b[0m\u001b[1;32m    529\u001b[0m     \u001b[0;32mreturn\u001b[0m \u001b[0mwrap\u001b[0m\u001b[0;34m(\u001b[0m\u001b[0mainv\u001b[0m\u001b[0;34m.\u001b[0m\u001b[0mastype\u001b[0m\u001b[0;34m(\u001b[0m\u001b[0mresult_t\u001b[0m\u001b[0;34m,\u001b[0m \u001b[0mcopy\u001b[0m\u001b[0;34m=\u001b[0m\u001b[0;32mFalse\u001b[0m\u001b[0;34m)\u001b[0m\u001b[0;34m)\u001b[0m\u001b[0;34m\u001b[0m\u001b[0m\n\u001b[1;32m    530\u001b[0m \u001b[0;34m\u001b[0m\u001b[0m\n",
      "\u001b[0;32m~/anaconda3/lib/python3.6/site-packages/numpy/linalg/linalg.py\u001b[0m in \u001b[0;36m_raise_linalgerror_singular\u001b[0;34m(err, flag)\u001b[0m\n\u001b[1;32m     87\u001b[0m \u001b[0;34m\u001b[0m\u001b[0m\n\u001b[1;32m     88\u001b[0m \u001b[0;32mdef\u001b[0m \u001b[0m_raise_linalgerror_singular\u001b[0m\u001b[0;34m(\u001b[0m\u001b[0merr\u001b[0m\u001b[0;34m,\u001b[0m \u001b[0mflag\u001b[0m\u001b[0;34m)\u001b[0m\u001b[0;34m:\u001b[0m\u001b[0;34m\u001b[0m\u001b[0m\n\u001b[0;32m---> 89\u001b[0;31m     \u001b[0;32mraise\u001b[0m \u001b[0mLinAlgError\u001b[0m\u001b[0;34m(\u001b[0m\u001b[0;34m\"Singular matrix\"\u001b[0m\u001b[0;34m)\u001b[0m\u001b[0;34m\u001b[0m\u001b[0m\n\u001b[0m\u001b[1;32m     90\u001b[0m \u001b[0;34m\u001b[0m\u001b[0m\n\u001b[1;32m     91\u001b[0m \u001b[0;32mdef\u001b[0m \u001b[0m_raise_linalgerror_nonposdef\u001b[0m\u001b[0;34m(\u001b[0m\u001b[0merr\u001b[0m\u001b[0;34m,\u001b[0m \u001b[0mflag\u001b[0m\u001b[0;34m)\u001b[0m\u001b[0;34m:\u001b[0m\u001b[0;34m\u001b[0m\u001b[0m\n",
      "\u001b[0;31mLinAlgError\u001b[0m: Singular matrix"
     ]
    }
   ],
   "source": [
    "newton(lambda x: x[0,0]**2 + x[0,1]**2, np.r_[5, 5])"
   ]
  },
  {
   "cell_type": "markdown",
   "metadata": {},
   "source": [
    "### 2.2 SVM et SMO"
   ]
  },
  {
   "cell_type": "code",
   "execution_count": null,
   "metadata": {},
   "outputs": [],
   "source": []
  }
 ],
 "metadata": {
  "kernelspec": {
   "display_name": "Python 3",
   "language": "python",
   "name": "python3"
  },
  "language_info": {
   "codemirror_mode": {
    "name": "ipython",
    "version": 3
   },
   "file_extension": ".py",
   "mimetype": "text/x-python",
   "name": "python",
   "nbconvert_exporter": "python",
   "pygments_lexer": "ipython3",
   "version": "3.6.4"
  }
 },
 "nbformat": 4,
 "nbformat_minor": 2
}

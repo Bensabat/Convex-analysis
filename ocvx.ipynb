{
 "cells": [
  {
   "cell_type": "code",
   "execution_count": 1,
   "metadata": {},
   "outputs": [],
   "source": [
    "import warnings\n",
    "import numpy as np\n",
    "import matplotlib.pyplot as plt"
   ]
  },
  {
   "cell_type": "code",
   "execution_count": 2,
   "metadata": {},
   "outputs": [],
   "source": [
    "ffamilies = [\n",
    "    lambda k: lambda x: x[0, 0]**2 + k * x[0, 0] * x[0, 1] + x[0,1]**2,\n",
    "    lambda k: lambda x: k * x[0, 0] + k**2 * x[0, 1],\n",
    "]"
   ]
  },
  {
   "cell_type": "code",
   "execution_count": 3,
   "metadata": {},
   "outputs": [],
   "source": [
    "def partial(f, x, i=[0], dx=1e-6):\n",
    "    \"\"\"Computes the i-th partial derivative of f at point x.\n",
    "    \n",
    "    Args:\n",
    "        f: objective function.\n",
    "        x: point at which partial derivative is computed.\n",
    "        i: list of coordinates along which derivative is computed (differentiates successively once per coordinate).\n",
    "        dx: slack for finite difference.\n",
    "        \n",
    "    Output:\n",
    "        (float)\n",
    "    \"\"\"\n",
    "    if not i:\n",
    "        return f(x)\n",
    "    x = x.reshape(1, -1)\n",
    "    h = np.zeros(x.shape)\n",
    "    h[0, i[0]] = dx\n",
    "    p1 = partial(f, x + h, i[1:], dx)\n",
    "    p2 = partial(f, x - h, i[1:], dx)\n",
    "    return (p1 - p2) / (2*dx)\n",
    "\n",
    "def deriv1(f, x, i, dx=1e-6):\n",
    "    return partial(f, x, [i], dx)\n",
    "\n",
    "def deriv2(f, x, i, j, dx=1e-6):\n",
    "    return partial(f, x, [i, j], dx)"
   ]
  },
  {
   "cell_type": "code",
   "execution_count": 4,
   "metadata": {},
   "outputs": [],
   "source": [
    "def gradient(f, x, dx=1e-6):\n",
    "    \"\"\"Computes gradient of f at point x.\n",
    "    \n",
    "    Args:\n",
    "        f: objective function.\n",
    "        x: point at which gradient is computed.\n",
    "        dx: slack for finite difference of partial derivatives.\n",
    "        \n",
    "    Output:\n",
    "        (ndarray) of size domain of f.\n",
    "    \"\"\"\n",
    "    x = x.reshape(1, -1)\n",
    "    dim = x.shape[1]\n",
    "    return np.array([deriv1(f, x, i, dx) for i in range(dim)]).reshape(1, -1)\n",
    "\n",
    "def hessian(f ,x, dx=1e-6):\n",
    "    \"\"\"Computes hessian of f at point x.\n",
    "    \n",
    "    Args:\n",
    "        f: objective function.\n",
    "        x: point at which hessian is computed.\n",
    "        dx: slack for finite difference of partial derivatives.\n",
    "        \n",
    "    Output:\n",
    "        (ndarray) of square shape and size domain of f.\n",
    "    \"\"\"\n",
    "    x = x.reshape(1, -1)\n",
    "    dim = x.shape[1]\n",
    "    line = lambda i: np.array([deriv2(f, x, i, j, dx) for j in range(dim)])\n",
    "    return np.array([line(i) for i in range(dim)])\n",
    "\n",
    "# Nombre de conditionnement : rapport entre la plus grande et la\n",
    "# plus petite des courbures parmi les directions partant de x.\n",
    "def condition_number(f, x):\n",
    "    H = hessian(f, x)\n",
    "    eivals, _ = np.linalg.eig(H)\n",
    "    return abs(max(eivals) / min(eivals))"
   ]
  },
  {
   "cell_type": "code",
   "execution_count": 5,
   "metadata": {},
   "outputs": [],
   "source": [
    "class ClassicUpdater:\n",
    "    def __init__(self, rate=0.01, tol=1e-6):\n",
    "        self.rate = rate if callable(rate) else lambda reset: rate\n",
    "        self.tol = tol\n",
    "\n",
    "    def __call__(self, f, x, reset):\n",
    "        return self.rate(reset) * -gradient(f, x, self.tol)\n",
    "\n",
    "ln_decay = lambda n: lambda tol: lambda f, x: np.linalg.norm(gradient(f, x, tol), ord=n)\n",
    "l1_decay = ln_decay(1)\n",
    "l2_decay = ln_decay(2)\n",
    "\n",
    "class GD():\n",
    "    \"\"\"Gradient Descent Object.\n",
    "    \n",
    "    Implements gradient descent aiming to compute optimal objective \n",
    "    value of convex functions and local optimal ones of none \n",
    "    convex functions.\n",
    "    \"\"\"    \n",
    "    def __init__(self, delta=None, decay=None, tol=1e-6, max_iter=1000):\n",
    "        \"\"\"\n",
    "        Instantiates a GD object.\n",
    "    \n",
    "        Attributes:\n",
    "        delta: function computing descent update vector (direction + step)\n",
    "        decay: function computing decay\n",
    "        tol: slack tolerance.\n",
    "        max_iter: upper bound on number of iterations.\n",
    "        \"\"\"\n",
    "        self.delta = delta if delta is not None else ClassicUpdater(0.01, tol)\n",
    "        self.decay = decay if decay is not None else l2_decay(tol)\n",
    "        self.tol = tol\n",
    "        self.max_iter = max_iter\n",
    "        self.grad = gradient\n",
    "    \n",
    "    def __call__(self, x, f):\n",
    "        \"\"\"Calling gradient descent object with specific starting point and optimal function.\n",
    "        \n",
    "        Args:\n",
    "            x: initial starting point for descent.\n",
    "            f: objective function of optimisation problem.\n",
    "        \n",
    "        Output:\n",
    "            (float) sub-optimal value up to tolerance if execution is proper.\n",
    "            (ndarray) list of gradient descent iterates.\n",
    "        \"\"\"\n",
    "        # Helper functions\n",
    "        compute_delta = lambda x, reset=False: self.delta(f, x, reset)\n",
    "        compute_decay = lambda x: self.decay(f, x)\n",
    "        \n",
    "        # Start\n",
    "        x = x.reshape(1, -1)\n",
    "        n_iter = 0\n",
    "        iters, iters_dir = x, compute_delta(x, reset=True)\n",
    "        decay = compute_decay(x)\n",
    "        while decay > self.tol and n_iter < self.max_iter:\n",
    "            ## Decide on direction\n",
    "            delta = compute_delta(x)\n",
    "            ## Update iterate\n",
    "            x = x + delta\n",
    "            ## Store on-going data\n",
    "            iters = np.vstack([iters, x])\n",
    "            iters_dir = np.vstack([iters_dir, delta])\n",
    "            ## Update decay\n",
    "            decay = compute_decay(x)\n",
    "            ## Update iteration number\n",
    "            n_iter += 1\n",
    "\n",
    "        # Display results\n",
    "        msg = \" Iteration nu. = {}\\n approx. = {}\\n ob value = {}\\n and decay = {}.\"\n",
    "        #print(msg.format(n_iter, x.flatten(), f(x), decay))\n",
    "        if decay > self.tol:\n",
    "            warnings.warn(\"Decay didn't get under tolerance rate.\", RuntimeWarning)\n",
    "        return (x, iters, iters_dir, n_iter) "
   ]
  },
  {
   "cell_type": "code",
   "execution_count": 16,
   "metadata": {},
   "outputs": [
    {
     "data": {
      "image/png": "[encoded data removed]",
      "text/plain": [
       "<matplotlib.figure.Figure at 0x7f3dfd8dfd68>"
      ]
     },
     "metadata": {},
     "output_type": "display_data"
    }
   ],
   "source": [
    "def plot_gradient_descent(f, x, k_max):\n",
    "    \"\"\"Plot the number iterations of a constant gradient descent of f at point x with several k,\n",
    "       contrasted with the conditionnement number\n",
    "    \n",
    "    Args:\n",
    "        f: objective function.\n",
    "        x: point at which gradient is computed.\n",
    "        k_max: number of k (0 to k_max)\n",
    "    \"\"\"\n",
    "\n",
    "    DG_classic = GD()\n",
    "\n",
    "    list_iter = [DG_classic(x, f(k))[3] for k in range(k_max)]\n",
    "    list_cond = [condition_number(f(k), x) for k in range(k_max)]\n",
    "\n",
    "    array_cond = np.array(list_cond)\n",
    "    array_iter = np.array(list_iter)\n",
    "\n",
    "    array_tuple = list(zip(array_cond, array_iter))\n",
    "    array_tuple.sort(key=lambda tup: tup[0])\n",
    "\n",
    "    array_cond_iter = list(zip(*array_tuple))\n",
    "\n",
    "    plt.plot(array_cond_iter[0], array_cond_iter[1], label=\"x² + kxy + y²\")\n",
    "    plt.legend(loc='upper right')\n",
    "    plt.xlabel(\"Conditionnement number\")\n",
    "    plt.ylabel(\"Number of iteration\")\n",
    "    plt.title(\"Gradient descent of a same family function with constant steps\")\n",
    "\n",
    "    plt.show()\n",
    "    \n",
    "plot_gradient_descent(ffamilies[0], np.array([1, 1]), 100)"
   ]
  },
  {
   "cell_type": "code",
   "execution_count": 33,
   "metadata": {},
   "outputs": [
    {
     "name": "stdout",
     "output_type": "stream",
     "text": [
      " Iteration nu. = 736\n",
      " approx. = [3.48651638e-07 3.48651638e-07]\n",
      " ob value = 2.431159291034752e-13\n",
      " and decay = 9.8613574948579e-07.\n",
      "\n"
     ]
    }
   ],
   "source": [
    "DG_classic = GD()\n",
    "DG_classic(np.r_[1, 1], ffamilies[0](0))\n",
    "print()"
   ]
  },
  {
   "cell_type": "code",
   "execution_count": 40,
   "metadata": {},
   "outputs": [],
   "source": [
    "class ExponentialLRScheduler:\n",
    "    def __init__(self, initial_rate=0.1, r=0.1):\n",
    "        self.initial_rate = initial_rate\n",
    "        self.r = r\n",
    "\n",
    "    def __call__(self, reset):\n",
    "        if reset:\n",
    "            self.n_iter = 0\n",
    "        return self.initial_rate * 10**(- self.n_iter / self.r)"
   ]
  },
  {
   "cell_type": "code",
   "execution_count": 41,
   "metadata": {},
   "outputs": [
    {
     "ename": "TypeError",
     "evalue": "unsupported operand type(s) for *: 'ExponentialLRScheduler' and 'float'",
     "output_type": "error",
     "traceback": [
      "\u001b[0;31m---------------------------------------------------------------------------\u001b[0m",
      "\u001b[0;31mTypeError\u001b[0m                                 Traceback (most recent call last)",
      "\u001b[0;32m<ipython-input-41-47c85ae10a7d>\u001b[0m in \u001b[0;36m<module>\u001b[0;34m()\u001b[0m\n\u001b[1;32m      1\u001b[0m \u001b[0mDG_classic\u001b[0m \u001b[0;34m=\u001b[0m \u001b[0mGD\u001b[0m\u001b[0;34m(\u001b[0m\u001b[0mClassicUpdater\u001b[0m\u001b[0;34m(\u001b[0m\u001b[0mExponentialLRScheduler\u001b[0m\u001b[0;34m(\u001b[0m\u001b[0;34m)\u001b[0m\u001b[0;34m)\u001b[0m\u001b[0;34m)\u001b[0m\u001b[0;34m\u001b[0m\u001b[0m\n\u001b[0;32m----> 2\u001b[0;31m \u001b[0mDG_classic\u001b[0m\u001b[0;34m(\u001b[0m\u001b[0mnp\u001b[0m\u001b[0;34m.\u001b[0m\u001b[0mr_\u001b[0m\u001b[0;34m[\u001b[0m\u001b[0;36m15\u001b[0m\u001b[0;34m,\u001b[0m \u001b[0;36m20\u001b[0m\u001b[0;34m]\u001b[0m\u001b[0;34m,\u001b[0m \u001b[0mffamilies\u001b[0m\u001b[0;34m[\u001b[0m\u001b[0;36m0\u001b[0m\u001b[0;34m]\u001b[0m\u001b[0;34m(\u001b[0m\u001b[0;36m0\u001b[0m\u001b[0;34m)\u001b[0m\u001b[0;34m)\u001b[0m\u001b[0;34m\u001b[0m\u001b[0m\n\u001b[0m\u001b[1;32m      3\u001b[0m \u001b[0mprint\u001b[0m\u001b[0;34m(\u001b[0m\u001b[0;34m)\u001b[0m\u001b[0;34m\u001b[0m\u001b[0m\n",
      "\u001b[0;32m<ipython-input-5-9320327b15dd>\u001b[0m in \u001b[0;36m__call__\u001b[0;34m(self, x, f)\u001b[0m\n\u001b[1;32m     52\u001b[0m         \u001b[0mx\u001b[0m \u001b[0;34m=\u001b[0m \u001b[0mx\u001b[0m\u001b[0;34m.\u001b[0m\u001b[0mreshape\u001b[0m\u001b[0;34m(\u001b[0m\u001b[0;36m1\u001b[0m\u001b[0;34m,\u001b[0m \u001b[0;34m-\u001b[0m\u001b[0;36m1\u001b[0m\u001b[0;34m)\u001b[0m\u001b[0;34m\u001b[0m\u001b[0m\n\u001b[1;32m     53\u001b[0m         \u001b[0mn_iter\u001b[0m \u001b[0;34m=\u001b[0m \u001b[0;36m0\u001b[0m\u001b[0;34m\u001b[0m\u001b[0m\n\u001b[0;32m---> 54\u001b[0;31m         \u001b[0miters\u001b[0m\u001b[0;34m,\u001b[0m \u001b[0miters_dir\u001b[0m \u001b[0;34m=\u001b[0m \u001b[0mx\u001b[0m\u001b[0;34m,\u001b[0m \u001b[0mcompute_delta\u001b[0m\u001b[0;34m(\u001b[0m\u001b[0mx\u001b[0m\u001b[0;34m,\u001b[0m \u001b[0mreset\u001b[0m\u001b[0;34m=\u001b[0m\u001b[0;32mTrue\u001b[0m\u001b[0;34m)\u001b[0m\u001b[0;34m\u001b[0m\u001b[0m\n\u001b[0m\u001b[1;32m     55\u001b[0m         \u001b[0mdecay\u001b[0m \u001b[0;34m=\u001b[0m \u001b[0mcompute_decay\u001b[0m\u001b[0;34m(\u001b[0m\u001b[0mx\u001b[0m\u001b[0;34m)\u001b[0m\u001b[0;34m\u001b[0m\u001b[0m\n\u001b[1;32m     56\u001b[0m         \u001b[0;32mwhile\u001b[0m \u001b[0mdecay\u001b[0m \u001b[0;34m>\u001b[0m \u001b[0mself\u001b[0m\u001b[0;34m.\u001b[0m\u001b[0mtol\u001b[0m \u001b[0;32mand\u001b[0m \u001b[0mn_iter\u001b[0m \u001b[0;34m<\u001b[0m \u001b[0mself\u001b[0m\u001b[0;34m.\u001b[0m\u001b[0mmax_iter\u001b[0m\u001b[0;34m:\u001b[0m\u001b[0;34m\u001b[0m\u001b[0m\n",
      "\u001b[0;32m<ipython-input-5-9320327b15dd>\u001b[0m in \u001b[0;36m<lambda>\u001b[0;34m(x, reset)\u001b[0m\n\u001b[1;32m     46\u001b[0m         \"\"\"\n\u001b[1;32m     47\u001b[0m         \u001b[0;31m# Helper functions\u001b[0m\u001b[0;34m\u001b[0m\u001b[0;34m\u001b[0m\u001b[0m\n\u001b[0;32m---> 48\u001b[0;31m         \u001b[0mcompute_delta\u001b[0m \u001b[0;34m=\u001b[0m \u001b[0;32mlambda\u001b[0m \u001b[0mx\u001b[0m\u001b[0;34m,\u001b[0m \u001b[0mreset\u001b[0m\u001b[0;34m=\u001b[0m\u001b[0;32mFalse\u001b[0m\u001b[0;34m:\u001b[0m \u001b[0mself\u001b[0m\u001b[0;34m.\u001b[0m\u001b[0mdelta\u001b[0m\u001b[0;34m(\u001b[0m\u001b[0mf\u001b[0m\u001b[0;34m,\u001b[0m \u001b[0mx\u001b[0m\u001b[0;34m,\u001b[0m \u001b[0mreset\u001b[0m\u001b[0;34m)\u001b[0m\u001b[0;34m\u001b[0m\u001b[0m\n\u001b[0m\u001b[1;32m     49\u001b[0m         \u001b[0mcompute_decay\u001b[0m \u001b[0;34m=\u001b[0m \u001b[0;32mlambda\u001b[0m \u001b[0mx\u001b[0m\u001b[0;34m:\u001b[0m \u001b[0mself\u001b[0m\u001b[0;34m.\u001b[0m\u001b[0mdecay\u001b[0m\u001b[0;34m(\u001b[0m\u001b[0mf\u001b[0m\u001b[0;34m,\u001b[0m \u001b[0mx\u001b[0m\u001b[0;34m)\u001b[0m\u001b[0;34m\u001b[0m\u001b[0m\n\u001b[1;32m     50\u001b[0m \u001b[0;34m\u001b[0m\u001b[0m\n",
      "\u001b[0;32m<ipython-input-5-9320327b15dd>\u001b[0m in \u001b[0;36m__call__\u001b[0;34m(self, f, x, reset)\u001b[0m\n\u001b[1;32m      5\u001b[0m \u001b[0;34m\u001b[0m\u001b[0m\n\u001b[1;32m      6\u001b[0m     \u001b[0;32mdef\u001b[0m \u001b[0m__call__\u001b[0m\u001b[0;34m(\u001b[0m\u001b[0mself\u001b[0m\u001b[0;34m,\u001b[0m \u001b[0mf\u001b[0m\u001b[0;34m,\u001b[0m \u001b[0mx\u001b[0m\u001b[0;34m,\u001b[0m \u001b[0mreset\u001b[0m\u001b[0;34m)\u001b[0m\u001b[0;34m:\u001b[0m\u001b[0;34m\u001b[0m\u001b[0m\n\u001b[0;32m----> 7\u001b[0;31m         \u001b[0;32mreturn\u001b[0m \u001b[0mself\u001b[0m\u001b[0;34m.\u001b[0m\u001b[0mrate\u001b[0m \u001b[0;34m*\u001b[0m \u001b[0;34m-\u001b[0m\u001b[0mgradient\u001b[0m\u001b[0;34m(\u001b[0m\u001b[0mf\u001b[0m\u001b[0;34m,\u001b[0m \u001b[0mx\u001b[0m\u001b[0;34m,\u001b[0m \u001b[0mself\u001b[0m\u001b[0;34m.\u001b[0m\u001b[0mtol\u001b[0m\u001b[0;34m)\u001b[0m\u001b[0;34m\u001b[0m\u001b[0m\n\u001b[0m\u001b[1;32m      8\u001b[0m \u001b[0;34m\u001b[0m\u001b[0m\n\u001b[1;32m      9\u001b[0m \u001b[0mln_decay\u001b[0m \u001b[0;34m=\u001b[0m \u001b[0;32mlambda\u001b[0m \u001b[0mn\u001b[0m\u001b[0;34m:\u001b[0m \u001b[0;32mlambda\u001b[0m \u001b[0mtol\u001b[0m\u001b[0;34m:\u001b[0m \u001b[0;32mlambda\u001b[0m \u001b[0mf\u001b[0m\u001b[0;34m,\u001b[0m \u001b[0mx\u001b[0m\u001b[0;34m:\u001b[0m \u001b[0mnp\u001b[0m\u001b[0;34m.\u001b[0m\u001b[0mlinalg\u001b[0m\u001b[0;34m.\u001b[0m\u001b[0mnorm\u001b[0m\u001b[0;34m(\u001b[0m\u001b[0mgradient\u001b[0m\u001b[0;34m(\u001b[0m\u001b[0mf\u001b[0m\u001b[0;34m,\u001b[0m \u001b[0mx\u001b[0m\u001b[0;34m,\u001b[0m \u001b[0mtol\u001b[0m\u001b[0;34m)\u001b[0m\u001b[0;34m,\u001b[0m \u001b[0mord\u001b[0m\u001b[0;34m=\u001b[0m\u001b[0mn\u001b[0m\u001b[0;34m)\u001b[0m\u001b[0;34m\u001b[0m\u001b[0m\n",
      "\u001b[0;31mTypeError\u001b[0m: unsupported operand type(s) for *: 'ExponentialLRScheduler' and 'float'"
     ]
    }
   ],
   "source": [
    "DG_classic = GD(ClassicUpdater(ExponentialLRScheduler()))\n",
    "DG_classic(np.r_[15, 20], ffamilies[0](0))\n",
    "print()"
   ]
  },
  {
   "cell_type": "code",
   "execution_count": 35,
   "metadata": {},
   "outputs": [],
   "source": [
    "class NesterovUpdater:\n",
    "    def __init__(self, rate=0.01, momentum=0.9, tol=1e-6):\n",
    "        self.rate = rate\n",
    "        self.momentum = momentum\n",
    "        self.tol = tol\n",
    "    \n",
    "    def __call__(self, f, x, reset):\n",
    "        x = x.reshape(1, -1)\n",
    "        if reset is True:\n",
    "            self.m_vect = np.zeros(x.shape[1])\n",
    "        mv = self.momentum * self.m_vect\n",
    "        self.m_vect = mv - self.rate * gradient(f, x + mv, self.tol)\n",
    "        return self.m_vect\n",
    "    \n",
    "class RMSProp:\n",
    "    def __init__(self, rate=0.01, beta=)\n",
    "\n",
    "class AdamUpdater:\n",
    "    def __init__(self, rate=0.01, beta1=0.9, beta2=0.9, tol=1e-6, epsilon=1e-7):\n",
    "        self.rate = rate\n",
    "        self.beta1 = beta1\n",
    "        self.beta2 = beta2\n",
    "        self.tol = tol\n",
    "        self.epsilon = epsilon\n",
    "\n",
    "    def __call__(self, f, x, reset):\n",
    "        x = x.reshape(1, -1)\n",
    "        if reset is True:\n",
    "            self.n_iter = 1\n",
    "            self.m_vect = np.zeros(x.shape[1])\n",
    "            self.s_vect = np.zeros(x.shape[1])\n",
    "        gf = gradient(f, x, self.tol)\n",
    "        m = self.beta1 * self.m_vect - (1 - self.beta1) * gf\n",
    "        s = self.beta2 * self.s_vect + (1 - self.beta2) * gf * gf\n",
    "        self.m_vect = m / (1 - self.beta1**self.n_iter)\n",
    "        self.s_vect = s / (1 - self.beta2**self.n_iter)\n",
    "        return self.rate * self.m_vect / np.sqrt(self.s_vect + self.epsilon)"
   ]
  },
  {
   "cell_type": "code",
   "execution_count": 37,
   "metadata": {},
   "outputs": [
    {
     "name": "stdout",
     "output_type": "stream",
     "text": [
      " Iteration nu. = 252\n",
      " approx. = [3.17311626e-08 4.23082156e-08]\n",
      " ob value = 2.7968517893163512e-15\n",
      " and decay = 1.0577054011994732e-07.\n",
      "\n",
      " Iteration nu. = 26\n",
      " approx. = [-4.04407778e+10 -4.04408040e+10]\n",
      " ob value = 3.2709151367261187e+21\n",
      " and decay = 0.0.\n",
      "\n"
     ]
    }
   ],
   "source": [
    "DG_nesterov = GD(NesterovUpdater())\n",
    "DG_nesterov(np.r_[15, 20], ffamilies[0](0))\n",
    "print()\n",
    "DG_adam = GD(AdamUpdater())\n",
    "DG_adam(np.r_[15, 20], ffamilies[0](0))\n",
    "print()"
   ]
  },
  {
   "cell_type": "code",
   "execution_count": null,
   "metadata": {},
   "outputs": [],
   "source": []
  }
 ],
 "metadata": {
  "kernelspec": {
   "display_name": "Python 3",
   "language": "python",
   "name": "python3"
  },
  "language_info": {
   "codemirror_mode": {
    "name": "ipython",
    "version": 3
   },
   "file_extension": ".py",
   "mimetype": "text/x-python",
   "name": "python",
   "nbconvert_exporter": "python",
   "pygments_lexer": "ipython3",
   "version": "3.6.4"
  }
 },
 "nbformat": 4,
 "nbformat_minor": 2
}
